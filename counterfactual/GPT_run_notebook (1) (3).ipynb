{
 "cells": [
  {
   "cell_type": "code",
   "execution_count": 1,
   "id": "545a0749",
   "metadata": {
    "scrolled": true
   },
   "outputs": [
    {
     "data": {
      "text/html": [
       "<div>\n",
       "<style scoped>\n",
       "    .dataframe tbody tr th:only-of-type {\n",
       "        vertical-align: middle;\n",
       "    }\n",
       "\n",
       "    .dataframe tbody tr th {\n",
       "        vertical-align: top;\n",
       "    }\n",
       "\n",
       "    .dataframe thead th {\n",
       "        text-align: right;\n",
       "    }\n",
       "</style>\n",
       "<table border=\"1\" class=\"dataframe\">\n",
       "  <thead>\n",
       "    <tr style=\"text-align: right;\">\n",
       "      <th></th>\n",
       "      <th>reviewerID</th>\n",
       "      <th>asin</th>\n",
       "      <th>reviewerName</th>\n",
       "      <th>helpful</th>\n",
       "      <th>reviewText</th>\n",
       "      <th>overall</th>\n",
       "      <th>summary</th>\n",
       "      <th>unixReviewTime</th>\n",
       "      <th>reviewTime</th>\n",
       "      <th>analysis</th>\n",
       "    </tr>\n",
       "  </thead>\n",
       "  <tbody>\n",
       "    <tr>\n",
       "      <th>0</th>\n",
       "      <td>ATX7CZYFXI1KW</td>\n",
       "      <td>120401325X</td>\n",
       "      <td>patrice m rogoza</td>\n",
       "      <td>[2, 3]</td>\n",
       "      <td>awesome! stays on, and looks great. can be use...</td>\n",
       "      <td>5</td>\n",
       "      <td>leopard home button sticker for iphone 4s</td>\n",
       "      <td>1359849600</td>\n",
       "      <td>02 3, 2013</td>\n",
       "      <td>[{'aspect': 'fit', 'opinion': 'stays on', 'sen...</td>\n",
       "    </tr>\n",
       "    <tr>\n",
       "      <th>1</th>\n",
       "      <td>APX47D16JOP7H</td>\n",
       "      <td>120401325X</td>\n",
       "      <td>RLH</td>\n",
       "      <td>[1, 2]</td>\n",
       "      <td>These make using the home button easy. My daug...</td>\n",
       "      <td>3</td>\n",
       "      <td>Cute</td>\n",
       "      <td>1381536000</td>\n",
       "      <td>10 12, 2013</td>\n",
       "      <td>[]</td>\n",
       "    </tr>\n",
       "    <tr>\n",
       "      <th>2</th>\n",
       "      <td>A2KP65JS3YY5VL</td>\n",
       "      <td>6073894996</td>\n",
       "      <td>Michael A. Rowley \"Nick Danger\"</td>\n",
       "      <td>[0, 0]</td>\n",
       "      <td>Purchased two and we put one in each car. Now ...</td>\n",
       "      <td>5</td>\n",
       "      <td>Works great. Very inexpensive</td>\n",
       "      <td>1358035200</td>\n",
       "      <td>01 13, 2013</td>\n",
       "      <td>[{'aspect': 'car', 'opinion': 'useful', 'senti...</td>\n",
       "    </tr>\n",
       "    <tr>\n",
       "      <th>3</th>\n",
       "      <td>ABDDX2PV61RMX</td>\n",
       "      <td>6073894996</td>\n",
       "      <td>MS.J</td>\n",
       "      <td>[0, 0]</td>\n",
       "      <td>Purchased product about many a month ago. Pros...</td>\n",
       "      <td>4</td>\n",
       "      <td>Dual USB Port Car Charger</td>\n",
       "      <td>1354147200</td>\n",
       "      <td>11 29, 2012</td>\n",
       "      <td>[{'aspect': 'product', 'opinion': 'Loved', 'se...</td>\n",
       "    </tr>\n",
       "    <tr>\n",
       "      <th>4</th>\n",
       "      <td>A25TQLMIAPI1T6</td>\n",
       "      <td>6073894996</td>\n",
       "      <td>Ronaldo</td>\n",
       "      <td>[0, 0]</td>\n",
       "      <td>I bought 2 of this and tried to test first ......</td>\n",
       "      <td>1</td>\n",
       "      <td>Be careful</td>\n",
       "      <td>1403395200</td>\n",
       "      <td>06 22, 2014</td>\n",
       "      <td>[{'aspect': 'charging', 'opinion': 'hot', 'sen...</td>\n",
       "    </tr>\n",
       "    <tr>\n",
       "      <th>...</th>\n",
       "      <td>...</td>\n",
       "      <td>...</td>\n",
       "      <td>...</td>\n",
       "      <td>...</td>\n",
       "      <td>...</td>\n",
       "      <td>...</td>\n",
       "      <td>...</td>\n",
       "      <td>...</td>\n",
       "      <td>...</td>\n",
       "      <td>...</td>\n",
       "    </tr>\n",
       "    <tr>\n",
       "      <th>9006</th>\n",
       "      <td>A11LC938XF35XN</td>\n",
       "      <td>B00IYX9K24</td>\n",
       "      <td>SJ Blouse \"Stacey\"</td>\n",
       "      <td>[0, 0]</td>\n",
       "      <td>Love the anti-glare aspect of this screen prot...</td>\n",
       "      <td>5</td>\n",
       "      <td>Great Screen Protector</td>\n",
       "      <td>1398643200</td>\n",
       "      <td>04 28, 2014</td>\n",
       "      <td>[{'aspect': 'anti-glare', 'opinion': 'love', '...</td>\n",
       "    </tr>\n",
       "    <tr>\n",
       "      <th>9007</th>\n",
       "      <td>A1LP37SX3W7N7G</td>\n",
       "      <td>B00IZ1WUNG</td>\n",
       "      <td>Consumer57</td>\n",
       "      <td>[0, 0]</td>\n",
       "      <td>Excellent pricing and easy activation. Speedy ...</td>\n",
       "      <td>5</td>\n",
       "      <td>Five Stars</td>\n",
       "      <td>1405209600</td>\n",
       "      <td>07 13, 2014</td>\n",
       "      <td>[{'aspect': 'pricing', 'opinion': 'excellent',...</td>\n",
       "    </tr>\n",
       "    <tr>\n",
       "      <th>9008</th>\n",
       "      <td>A1LP37SX3W7N7G</td>\n",
       "      <td>B00IZ1X21K</td>\n",
       "      <td>Consumer57</td>\n",
       "      <td>[1, 2]</td>\n",
       "      <td>Excellent price and easy activation. Product i...</td>\n",
       "      <td>5</td>\n",
       "      <td>Five Stars</td>\n",
       "      <td>1405209600</td>\n",
       "      <td>07 13, 2014</td>\n",
       "      <td>[{'aspect': 'price', 'opinion': 'excellent', '...</td>\n",
       "    </tr>\n",
       "    <tr>\n",
       "      <th>9009</th>\n",
       "      <td>A3TAS1AG6FMBQW</td>\n",
       "      <td>B00IZ1X21K</td>\n",
       "      <td>Jeri Zerr \"formerly a Road Warrior of the Nth...</td>\n",
       "      <td>[3, 3]</td>\n",
       "      <td>I am in absolute love with the S5! I bought th...</td>\n",
       "      <td>5</td>\n",
       "      <td>Upgraded from Droid 4, I  love my S5!</td>\n",
       "      <td>1398470400</td>\n",
       "      <td>04 26, 2014</td>\n",
       "      <td>[{'aspect': 'S5', 'opinion': 'love', 'sentimen...</td>\n",
       "    </tr>\n",
       "    <tr>\n",
       "      <th>9010</th>\n",
       "      <td>A1NGYBTJ5Y15Y7</td>\n",
       "      <td>B00IZOU1JS</td>\n",
       "      <td>BoilerRage</td>\n",
       "      <td>[2, 3]</td>\n",
       "      <td>Got this for my kid, doubles as his nightlight...</td>\n",
       "      <td>5</td>\n",
       "      <td>Fun AC/USB 3 plug that lights up</td>\n",
       "      <td>1401580800</td>\n",
       "      <td>06 1, 2014</td>\n",
       "      <td>[{'aspect': 'nightlight', 'opinion': 'cool', '...</td>\n",
       "    </tr>\n",
       "  </tbody>\n",
       "</table>\n",
       "<p>9011 rows × 10 columns</p>\n",
       "</div>"
      ],
      "text/plain": [
       "          reviewerID        asin  \\\n",
       "0      ATX7CZYFXI1KW  120401325X   \n",
       "1      APX47D16JOP7H  120401325X   \n",
       "2     A2KP65JS3YY5VL  6073894996   \n",
       "3      ABDDX2PV61RMX  6073894996   \n",
       "4     A25TQLMIAPI1T6  6073894996   \n",
       "...              ...         ...   \n",
       "9006  A11LC938XF35XN  B00IYX9K24   \n",
       "9007  A1LP37SX3W7N7G  B00IZ1WUNG   \n",
       "9008  A1LP37SX3W7N7G  B00IZ1X21K   \n",
       "9009  A3TAS1AG6FMBQW  B00IZ1X21K   \n",
       "9010  A1NGYBTJ5Y15Y7  B00IZOU1JS   \n",
       "\n",
       "                                          reviewerName helpful  \\\n",
       "0                                     patrice m rogoza  [2, 3]   \n",
       "1                                                  RLH  [1, 2]   \n",
       "2                      Michael A. Rowley \"Nick Danger\"  [0, 0]   \n",
       "3                                                 MS.J  [0, 0]   \n",
       "4                                              Ronaldo  [0, 0]   \n",
       "...                                                ...     ...   \n",
       "9006                                SJ Blouse \"Stacey\"  [0, 0]   \n",
       "9007                                        Consumer57  [0, 0]   \n",
       "9008                                        Consumer57  [1, 2]   \n",
       "9009  Jeri Zerr \"formerly a Road Warrior of the Nth...  [3, 3]   \n",
       "9010                                        BoilerRage  [2, 3]   \n",
       "\n",
       "                                             reviewText  overall  \\\n",
       "0     awesome! stays on, and looks great. can be use...        5   \n",
       "1     These make using the home button easy. My daug...        3   \n",
       "2     Purchased two and we put one in each car. Now ...        5   \n",
       "3     Purchased product about many a month ago. Pros...        4   \n",
       "4     I bought 2 of this and tried to test first ......        1   \n",
       "...                                                 ...      ...   \n",
       "9006  Love the anti-glare aspect of this screen prot...        5   \n",
       "9007  Excellent pricing and easy activation. Speedy ...        5   \n",
       "9008  Excellent price and easy activation. Product i...        5   \n",
       "9009  I am in absolute love with the S5! I bought th...        5   \n",
       "9010  Got this for my kid, doubles as his nightlight...        5   \n",
       "\n",
       "                                        summary  unixReviewTime   reviewTime  \\\n",
       "0     leopard home button sticker for iphone 4s      1359849600   02 3, 2013   \n",
       "1                                          Cute      1381536000  10 12, 2013   \n",
       "2                 Works great. Very inexpensive      1358035200  01 13, 2013   \n",
       "3                     Dual USB Port Car Charger      1354147200  11 29, 2012   \n",
       "4                                    Be careful      1403395200  06 22, 2014   \n",
       "...                                         ...             ...          ...   \n",
       "9006                     Great Screen Protector      1398643200  04 28, 2014   \n",
       "9007                                 Five Stars      1405209600  07 13, 2014   \n",
       "9008                                 Five Stars      1405209600  07 13, 2014   \n",
       "9009      Upgraded from Droid 4, I  love my S5!      1398470400  04 26, 2014   \n",
       "9010           Fun AC/USB 3 plug that lights up      1401580800   06 1, 2014   \n",
       "\n",
       "                                               analysis  \n",
       "0     [{'aspect': 'fit', 'opinion': 'stays on', 'sen...  \n",
       "1                                                    []  \n",
       "2     [{'aspect': 'car', 'opinion': 'useful', 'senti...  \n",
       "3     [{'aspect': 'product', 'opinion': 'Loved', 'se...  \n",
       "4     [{'aspect': 'charging', 'opinion': 'hot', 'sen...  \n",
       "...                                                 ...  \n",
       "9006  [{'aspect': 'anti-glare', 'opinion': 'love', '...  \n",
       "9007  [{'aspect': 'pricing', 'opinion': 'excellent',...  \n",
       "9008  [{'aspect': 'price', 'opinion': 'excellent', '...  \n",
       "9009  [{'aspect': 'S5', 'opinion': 'love', 'sentimen...  \n",
       "9010  [{'aspect': 'nightlight', 'opinion': 'cool', '...  \n",
       "\n",
       "[9011 rows x 10 columns]"
      ]
     },
     "execution_count": 1,
     "metadata": {},
     "output_type": "execute_result"
    }
   ],
   "source": [
    "import pandas as pd\n",
    "import numpy as np\n",
    "data = pd.read_csv('Datasets/GPT_CellPhoneAndAccessories.csv')\n",
    "data"
   ]
  },
  {
   "cell_type": "code",
   "execution_count": 2,
   "id": "3c8a505e",
   "metadata": {},
   "outputs": [],
   "source": [
    "# data.replace('[]', np.nan, inplace=True)"
   ]
  },
  {
   "cell_type": "code",
   "execution_count": 3,
   "id": "5b5b6e89",
   "metadata": {},
   "outputs": [],
   "source": [
    "data = data.dropna(subset = ['reviewText'])"
   ]
  },
  {
   "cell_type": "code",
   "execution_count": 4,
   "id": "17b6dfa9",
   "metadata": {},
   "outputs": [],
   "source": [
    "# data.isna().sum()"
   ]
  },
  {
   "cell_type": "code",
   "execution_count": 5,
   "id": "26e59212",
   "metadata": {},
   "outputs": [
    {
     "data": {
      "text/plain": [
       "4397"
      ]
     },
     "execution_count": 5,
     "metadata": {},
     "output_type": "execute_result"
    }
   ],
   "source": [
    "len(set(data['asin']))"
   ]
  },
  {
   "cell_type": "code",
   "execution_count": 6,
   "id": "c86987ff",
   "metadata": {},
   "outputs": [
    {
     "data": {
      "text/plain": [
       "557"
      ]
     },
     "execution_count": 6,
     "metadata": {},
     "output_type": "execute_result"
    }
   ],
   "source": [
    "len(set(data['reviewerID']))"
   ]
  },
  {
   "cell_type": "code",
   "execution_count": 7,
   "id": "49f50bd5",
   "metadata": {},
   "outputs": [],
   "source": [
    "# import ast\n",
    "# for index, all in data.iterrows():\n",
    "#     g = all['processed_text']\n",
    "#     g = ast.literal_eval(g)\n",
    "#     aspects = g['aspects']\n",
    "#     sentiments = g['sentiments']\n",
    "#     opinions = g['opinions']\n",
    "#     li=[len(aspects),len(opinions),len(sentiments)]\n",
    "#     l = min(li)\n",
    "#     aspects = aspects[:l]\n",
    "#     sentiments = sentiments[:l]\n",
    "#     opinions = opinions[:l]\n",
    "#     new_dict = {'aspects': aspects, 'sentiments': sentiments, 'opinions': opinions}\n",
    "#     data.at[index, 'processed_text'] = str(new_dict)"
   ]
  },
  {
   "cell_type": "code",
   "execution_count": 8,
   "id": "51e64f02",
   "metadata": {},
   "outputs": [
    {
     "name": "stdout",
     "output_type": "stream",
     "text": [
      "Review: awesome! stays on, and looks great. can be used on multiple apple products.  especially having nails, it helps to have an elevated key.\n",
      "Result: [{'aspect': 'fit', 'opinion': 'stays on', 'sentiment': '+1'}, {'aspect': 'design', 'opinion': 'looks great', 'sentiment': '+1'}, {'aspect': 'compatibility', 'opinion': 'can be used on multiple apple products', 'sentiment': '+1'}, {'aspect': 'functionality', 'opinion': 'especially having nails, it helps to have an elevated key', 'sentiment': '+1'}]\n"
     ]
    }
   ],
   "source": [
    "print(\"Review:\", data['reviewText'][0])\n",
    "print(\"Result:\",data['analysis'][0])"
   ]
  },
  {
   "cell_type": "code",
   "execution_count": 9,
   "id": "6ddafff0",
   "metadata": {
    "scrolled": false
   },
   "outputs": [
    {
     "data": {
      "text/plain": [
       "0    [{'aspect': 'fit', 'opinion': 'stays on', 'sen...\n",
       "2    [{'aspect': 'car', 'opinion': 'useful', 'senti...\n",
       "3    [{'aspect': 'product', 'opinion': 'Loved', 'se...\n",
       "4    [{'aspect': 'charging', 'opinion': 'hot', 'sen...\n",
       "5    [{'aspect': 'durability', 'opinion': \"didn't l...\n",
       "Name: analysis, dtype: object"
      ]
     },
     "execution_count": 9,
     "metadata": {},
     "output_type": "execute_result"
    }
   ],
   "source": [
    "data[data['analysis']!='[]']['analysis'][:5]"
   ]
  },
  {
   "cell_type": "code",
   "execution_count": 10,
   "id": "9557b719",
   "metadata": {},
   "outputs": [],
   "source": [
    "from re import S\n",
    "import torch\n",
    "import numpy as np\n",
    "import json\n",
    "import pickle\n",
    "# from torch._C import R\n",
    "import tqdm\n",
    "from torch.random import seed\n",
    "from utils.functions import sentiment_data_filtering, get_user_item_dict, get_feature_list, \\\n",
    "    get_user_attention_matrix, get_item_quality_matrix, sample_training_pairs\n",
    "import pandas as pd\n",
    "import argparse\n",
    "from utils.argument_amazon import arg_parse_train_base, arg_parser_preprocessing\n",
    "import ast\n",
    "from sys import exit\n",
    "import torch\n",
    "import pickle\n",
    "import os\n",
    "from pathlib import Path\n",
    "from utils.argument_amazon import arg_parse_exp_optimize\n",
    "from models.models import BaseRecModel, ExpOptimizationModel\n",
    "from re import S\n",
    "import torch\n",
    "import numpy as np\n",
    "import json\n",
    "import pickle\n",
    "# from torch._C import R\n",
    "import tqdm\n",
    "from torch.random import seed\n",
    "from utils.functions import sentiment_data_filtering, get_user_item_dict, get_feature_list, \\\n",
    "    get_user_attention_matrix, get_item_quality_matrix, sample_training_pairs\n"
   ]
  },
  {
   "cell_type": "code",
   "execution_count": 11,
   "id": "fd6e40ee",
   "metadata": {},
   "outputs": [],
   "source": [
    "from re import S\n",
    "import torch\n",
    "import numpy as np\n",
    "import json\n",
    "import pickle\n",
    "# from torch._C import R\n",
    "import tqdm\n",
    "from torch.random import seed\n",
    "from utils.functions import sentiment_data_filtering, get_user_item_dict, get_feature_list, \\\n",
    "    get_user_attention_matrix, get_item_quality_matrix, sample_training_pairs\n",
    "\n",
    "\n",
    "class AmazonDataset():\n",
    "    def __init__(self, preprocessing_args):\n",
    "        super().__init__()\n",
    "        self.args = preprocessing_args\n",
    "        self.sentiment_data = None  # [userID, itemID, [fos triplet 1], [fos triplet 2], ...]\n",
    "\n",
    "        self.user_name_dict = {}  # rename users to integer names\n",
    "        self.item_name_dict = {}\n",
    "        self.feature_name_dict = {}\n",
    "\n",
    "        self.features = []  # feature list\n",
    "        self.users = []\n",
    "        self.items = []\n",
    "\n",
    "        # the interacted items for each user, sorted with date {user:[i1, i2, i3, ...], user:[i1, i2, i3, ...]}\n",
    "        self.user_hist_inter_dict = {}\n",
    "        # the interacted users for each item\n",
    "        self.item_hist_inter_dict = {}  \n",
    "\n",
    "        self.user_num = None\n",
    "        self.item_num = None\n",
    "        self.feature_num = None  # number of features\n",
    "\n",
    "        self.user_feature_matrix = None  # user aspect attention matrix\n",
    "        self.item_feature_matrix = None  # item aspect quality matrix\n",
    "\n",
    "        self.training_data = None\n",
    "        self.test_data = None\n",
    "        self.pre_processing()\n",
    "        self.get_user_item_feature_matrix()\n",
    "        self.sample_training()  # sample training data, for traning BPR loss\n",
    "        self.sample_test()  # sample test data\n",
    "\n",
    "    def pre_processing(self,):\n",
    "        sentiment_data = []\n",
    "        for index, row in data.iterrows():\n",
    "            user = row['reviewerID']\n",
    "            item = row['asin']\n",
    "            sentiment_data.append([user, item])\n",
    "            fosr_data = row['analysis']\n",
    "            f = ast.literal_eval(fosr_data)\n",
    "            if pd.isna(fosr_data):\n",
    "                sentiment_data.append([])\n",
    "                continue\n",
    "            for all in f:\n",
    "                sentiment = all['sentiment']\n",
    "                if sentiment != \"+1\" and sentiment != \"-1\":\n",
    "                    continue\n",
    "                sentiment_data[-1].append([all['aspect'], all['opinion'], sentiment])\n",
    "        # Appending data to sentiment_data\n",
    "        sentiment_data = np.array(sentiment_data)\n",
    "        sentiment_data = sentiment_data_filtering(\n",
    "            sentiment_data, \n",
    "            self.args.user_thresh, \n",
    "            self.args.feature_thresh)\n",
    "        user_dict, item_dict = get_user_item_dict(sentiment_data)  # not sorted with time\n",
    "        user_item_date_dict = {}   # {(user, item): date, (user, item): date ...}  # used to remove duplicate\n",
    "\n",
    "        for index, record in data.iterrows():\n",
    "            user = record['reviewerID']\n",
    "            item = record['asin']\n",
    "            date = record['unixReviewTime']\n",
    "            if user in user_dict and item in user_dict[user] and (user, item) not in user_item_date_dict:\n",
    "                user_item_date_dict[(user, item)] = date\n",
    "\n",
    "        # remove the (user, item) not exist in the official dataset, possibly due to update?\n",
    "        sentiment_data = [row for row in sentiment_data if (row[0], row[1]) in user_item_date_dict]\n",
    "        sentiment_data = sentiment_data_filtering(sentiment_data, self.args.user_thresh, self.args.feature_thresh)\n",
    "        user_dict, item_dict = get_user_item_dict(sentiment_data)\n",
    "        for key in list(user_item_date_dict.keys()):\n",
    "            if key[0] not in user_dict or key[1] not in user_dict[key[0]]:\n",
    "                del user_item_date_dict[key]\n",
    "        \n",
    "        # rename users, items, and features to integer names\n",
    "        user_name_dict = {}\n",
    "        item_name_dict = {}\n",
    "        feature_name_dict = {}\n",
    "        features = get_feature_list(sentiment_data)\n",
    "        \n",
    "        count = 0\n",
    "        for user in user_dict:\n",
    "            if user not in user_name_dict:\n",
    "                user_name_dict[user] = count\n",
    "                count += 1\n",
    "        count = 0\n",
    "        for item in item_dict:\n",
    "            if item not in item_name_dict:\n",
    "                item_name_dict[item] = count\n",
    "                count += 1\n",
    "        count = 0\n",
    "        for feature in features:\n",
    "            if feature not in feature_name_dict:\n",
    "                feature_name_dict[feature] = count\n",
    "                count += 1\n",
    "        \n",
    "        for i in range(len(sentiment_data)):\n",
    "            sentiment_data[i][0] = user_name_dict[sentiment_data[i][0]]\n",
    "            sentiment_data[i][1] = item_name_dict[sentiment_data[i][1]]\n",
    "            for j in range(len(sentiment_data[i]) - 2):\n",
    "                sentiment_data[i][j+2][0] = feature_name_dict[sentiment_data[i][j + 2][0]]\n",
    "\n",
    "        renamed_user_item_date_dict = {}\n",
    "        for key, value in user_item_date_dict.items():\n",
    "            renamed_user_item_date_dict[user_name_dict[key[0]], item_name_dict[key[1]]] = value\n",
    "        user_item_date_dict = renamed_user_item_date_dict\n",
    "\n",
    "        # sort with date\n",
    "        user_item_date_dict = dict(sorted(user_item_date_dict.items(), key=lambda item: item[1]))\n",
    "\n",
    "        user_hist_inter_dict = {}  # {\"u1\": [i1, i2, i3, ...], \"u2\": [i1, i2, i3, ...]}, sort with time\n",
    "        item_hist_inter_dict = {}\n",
    "        # ranked_user_item_dict = {}  # {\"u1\": [i1, i2, i3, ...], \"u2\": [i1, i2, i3, ...]}\n",
    "        for key, value in user_item_date_dict.items():\n",
    "            user = key[0]\n",
    "            item = key[1]\n",
    "            if user not in user_hist_inter_dict:\n",
    "                user_hist_inter_dict[user] = [item]\n",
    "            else:\n",
    "                user_hist_inter_dict[user].append(item)\n",
    "            if item not in item_hist_inter_dict:\n",
    "                item_hist_inter_dict[item] = [user]\n",
    "            else:\n",
    "                item_hist_inter_dict[item].append(user)\n",
    "\n",
    "        user_hist_inter_dict = dict(sorted(user_hist_inter_dict.items()))\n",
    "        item_hist_inter_dict = dict(sorted(item_hist_inter_dict.items()))\n",
    "\n",
    "        users = list(user_hist_inter_dict.keys())\n",
    "        items = list(item_hist_inter_dict.keys())\n",
    "\n",
    "        self.sentiment_data = sentiment_data\n",
    "        self.user_name_dict = user_name_dict\n",
    "        self.item_name_dict = item_name_dict\n",
    "        self.feature_name_dict = feature_name_dict\n",
    "        self.user_hist_inter_dict = user_hist_inter_dict\n",
    "        self.item_hist_inter_dict = item_hist_inter_dict\n",
    "        self.users = users\n",
    "        self.items = items\n",
    "        self.features = features\n",
    "        self.user_num = len(users)\n",
    "        self.item_num = len(items)\n",
    "        self.feature_num = len(features)\n",
    "        return True\n",
    "    \n",
    "    def get_user_item_feature_matrix(self,):\n",
    "        # exclude test data from the sentiment data to construct matrix\n",
    "        train_u_i_set = set()\n",
    "        for user, items in self.user_hist_inter_dict.items():\n",
    "            items = items[:-self.args.test_length]\n",
    "            for item in items:\n",
    "                train_u_i_set.add((user, item))\n",
    "\n",
    "        train_sentiment_data = []\n",
    "        for row in self.sentiment_data:\n",
    "            user = row[0]\n",
    "            item = row[1]\n",
    "            if (user, item) in train_u_i_set:\n",
    "                train_sentiment_data.append(row)\n",
    "        self.user_feature_matrix = get_user_attention_matrix(\n",
    "            train_sentiment_data, \n",
    "            self.user_num, \n",
    "            self.features, \n",
    "            max_range=5)\n",
    "        self.item_feature_matrix = get_item_quality_matrix(\n",
    "            train_sentiment_data, \n",
    "            self.item_num, \n",
    "            self.features, \n",
    "            max_range=5)\n",
    "        return True\n",
    "    \n",
    "    def sample_training(self):\n",
    "        print('======================= sample training data =======================')\n",
    "        # print(self.user_feature_matrix.shape, self.item_feature_matrix.shape)\n",
    "        training_data = []\n",
    "        item_set = set(self.items)\n",
    "        for user, items in self.user_hist_inter_dict.items():\n",
    "            items = items[:-(self.args.test_length+self.args.val_length)]\n",
    "            training_pairs = sample_training_pairs(\n",
    "                user, \n",
    "                items, \n",
    "                item_set, \n",
    "                self.args.sample_ratio)\n",
    "            for pair in training_pairs:\n",
    "                training_data.append(pair)\n",
    "        print('# training samples :', len(training_data))\n",
    "        self.training_data = np.array(training_data)\n",
    "        return True\n",
    "    \n",
    "    def sample_test(self):\n",
    "        print('======================= sample test data =======================')\n",
    "        user_item_label_list = []  # [[u, [item1, item2, ...], [l1, l2, ...]], ...]\n",
    "        for user, items in self.user_hist_inter_dict.items():\n",
    "            items = items[-(self.args.test_length+self.args.val_length):]\n",
    "            user_item_label_list.append([user, items, np.ones(len(items))])  # add the test items\n",
    "            negative_items = [item for item in self.items if \n",
    "                item not in self.user_hist_inter_dict[user]]  # the not interacted items\n",
    "            negative_items = np.random.choice(np.array(negative_items), self.args.neg_length, replace=False)\n",
    "            user_item_label_list[-1][1] = np.concatenate((user_item_label_list[-1][1], negative_items), axis=0)\n",
    "            user_item_label_list[-1][2] = np.concatenate((user_item_label_list[-1][2], np.zeros(self.args.neg_length)), axis=0)\n",
    "        print('# test samples :', len(user_item_label_list))\n",
    "        self.test_data = np.array(user_item_label_list)\n",
    "        return True\n",
    "\n",
    "    def save(self, save_path):\n",
    "        return True\n",
    "    \n",
    "    def load(self):\n",
    "        return False\n",
    "\n",
    "\n",
    "def amazon_preprocessing(pre_processing_args):\n",
    "    rec_dataset = AmazonDataset(pre_processing_args)\n",
    "    return rec_dataset"
   ]
  },
  {
   "cell_type": "code",
   "execution_count": 12,
   "id": "07e86abf",
   "metadata": {},
   "outputs": [
    {
     "name": "stdout",
     "output_type": "stream",
     "text": [
      "0\n"
     ]
    },
    {
     "name": "stderr",
     "output_type": "stream",
     "text": [
      "/tmp/ipykernel_8368/1218841987.py:63: VisibleDeprecationWarning: Creating an ndarray from ragged nested sequences (which is a list-or-tuple of lists-or-tuples-or ndarrays with different lengths or shapes) is deprecated. If you meant to do this, you must specify 'dtype=object' when creating the ndarray.\n",
      "  sentiment_data = np.array(sentiment_data)\n"
     ]
    },
    {
     "name": "stdout",
     "output_type": "stream",
     "text": [
      "======================= filtering sentiment data =======================\n",
      "original review length:  9008\n",
      "original user length:  557\n",
      "original item length:  4397\n",
      "original feature length:  4968\n",
      "valid review length:  8182\n",
      "valid user:  557\n",
      "valid item :  4168\n",
      "valid feature length:  571\n",
      "user dense is: 14.689407540394972\n",
      "======================= filtering sentiment data =======================\n",
      "original review length:  8182\n",
      "original user length:  557\n",
      "original item length:  4168\n",
      "original feature length:  571\n",
      "valid review length:  8182\n",
      "valid user:  557\n",
      "valid item :  4168\n",
      "valid feature length:  571\n",
      "user dense is: 14.689407540394972\n"
     ]
    },
    {
     "name": "stderr",
     "output_type": "stream",
     "text": [
      "/home/amparikh/Counterfactual/utils/functions.py:19: VisibleDeprecationWarning: Creating an ndarray from ragged nested sequences (which is a list-or-tuple of lists-or-tuples-or ndarrays with different lengths or shapes) is deprecated. If you meant to do this, you must specify 'dtype=object' when creating the ndarray.\n",
      "  sentiment_data = np.array(sentiment_data)\n",
      "/home/amparikh/Counterfactual/utils/functions.py:76: VisibleDeprecationWarning: Creating an ndarray from ragged nested sequences (which is a list-or-tuple of lists-or-tuples-or ndarrays with different lengths or shapes) is deprecated. If you meant to do this, you must specify 'dtype=object' when creating the ndarray.\n",
      "  sentiment_data = np.array(sentiment_data)\n"
     ]
    },
    {
     "name": "stdout",
     "output_type": "stream",
     "text": [
      "======================= sample training data =======================\n",
      "# training samples : 14640\n",
      "======================= sample test data =======================\n",
      "# test samples : 557\n"
     ]
    },
    {
     "name": "stderr",
     "output_type": "stream",
     "text": [
      "/tmp/ipykernel_8368/1218841987.py:213: VisibleDeprecationWarning: Creating an ndarray from ragged nested sequences (which is a list-or-tuple of lists-or-tuples-or ndarrays with different lengths or shapes) is deprecated. If you meant to do this, you must specify 'dtype=object' when creating the ndarray.\n",
      "  self.test_data = np.array(user_item_label_list)\n"
     ]
    },
    {
     "data": {
      "text/plain": [
       "<__main__.AmazonDataset at 0x7fc0a4997250>"
      ]
     },
     "execution_count": 12,
     "metadata": {},
     "output_type": "execute_result"
    }
   ],
   "source": [
    "t_args = arg_parse_train_base()\n",
    "exp_args = arg_parse_exp_optimize()\n",
    "ap = arg_parser_preprocessing()\n",
    "print(ap.user_thresh)\n",
    "amazon_preprocessing(ap)"
   ]
  },
  {
   "cell_type": "code",
   "execution_count": 13,
   "id": "f36991ea",
   "metadata": {},
   "outputs": [],
   "source": [
    "import torch\n",
    "import numpy as np\n",
    "import os\n",
    "import tqdm\n",
    "import pickle\n",
    "from pathlib import Path\n",
    "from torch.utils.data import DataLoader\n",
    "from utils.argument_amazon import arg_parse_train_base, arg_parser_preprocessing\n",
    "from models.data_loaders import UserItemInterDataset\n",
    "from models.models import BaseRecModel\n",
    "from utils.evaluate_functions import compute_ndcg\n",
    "\n",
    "def train_base_recommendation(train_args, pre_processing_args):\n",
    "    if exp_args.gpu:\n",
    "        device = torch.device('cuda:%s' % exp_args.cuda)\n",
    "    else:\n",
    "        device = 'cpu'\n",
    "    rec_dataset = amazon_preprocessing(pre_processing_args)\n",
    "    Path(pre_processing_args.save_path).mkdir(parents=True, exist_ok=True)\n",
    "    with open(os.path.join(pre_processing_args.save_path, pre_processing_args.dataset + \"_dataset_obj.pickle\"), 'wb') as outp:\n",
    "        pickle.dump(rec_dataset, outp, pickle.HIGHEST_PROTOCOL)\n",
    "\n",
    "    train_loader = DataLoader(dataset=UserItemInterDataset(rec_dataset.training_data, \n",
    "                                rec_dataset.user_feature_matrix, \n",
    "                                rec_dataset.item_feature_matrix),\n",
    "                          batch_size=train_args.batch_size,\n",
    "                          shuffle=True)\n",
    "\n",
    "    model = BaseRecModel(rec_dataset.feature_num).to(device)\n",
    "    loss_fn = torch.nn.BCELoss()\n",
    "    optimizer = torch.optim.SGD(model.parameters(), lr=train_args.lr, weight_decay=train_args.weight_decay)\n",
    "\n",
    "    out_path = os.path.join(\"./logs\", train_args.dataset + \"_logs\")\n",
    "    Path(out_path).mkdir(parents=True, exist_ok=True)\n",
    "\n",
    "    ndcg = compute_ndcg(rec_dataset.test_data, \n",
    "            rec_dataset.user_feature_matrix, \n",
    "            rec_dataset.item_feature_matrix, \n",
    "            train_args.rec_k, \n",
    "            model, \n",
    "            device)\n",
    "    print('init ndcg:', ndcg)\n",
    "    for epoch in tqdm.trange(train_args.epoch):\n",
    "        model.train()\n",
    "        optimizer.zero_grad()\n",
    "        losses = []\n",
    "        for user_behaviour_feature, item_aspect_feature, label in train_loader:\n",
    "            user_behaviour_feature = user_behaviour_feature.to(device)\n",
    "            item_aspect_feature = item_aspect_feature.to(device)\n",
    "            label = label.float().to(device)\n",
    "            out = model(user_behaviour_feature, item_aspect_feature).squeeze()\n",
    "            loss = loss_fn(out, label)\n",
    "            loss.backward()\n",
    "            optimizer.step()\n",
    "            optimizer.zero_grad()\n",
    "            losses.append(loss.to('cpu').detach().numpy())\n",
    "            ave_train = np.mean(np.array(losses))\n",
    "        print('epoch %d: ' % epoch, 'training loss: ', ave_train)\n",
    "        # compute necg\n",
    "        if epoch % 10 == 0:\n",
    "            ndcg = compute_ndcg(rec_dataset.test_data, \n",
    "            rec_dataset.user_feature_matrix, \n",
    "            rec_dataset.item_feature_matrix, \n",
    "            train_args.rec_k, \n",
    "            model, \n",
    "            device)\n",
    "            print('epoch %d: ' % epoch, 'training loss: ', ave_train, 'NDCG: ', ndcg)\n",
    "    torch.save(model.state_dict(), os.path.join(out_path, \"model.model\"))\n",
    "    return 0\n",
    "\n"
   ]
  },
  {
   "cell_type": "code",
   "execution_count": 14,
   "id": "b4ff669f",
   "metadata": {},
   "outputs": [
    {
     "name": "stdout",
     "output_type": "stream",
     "text": [
      "Using CUDA 0\n"
     ]
    },
    {
     "name": "stderr",
     "output_type": "stream",
     "text": [
      "/tmp/ipykernel_8368/1218841987.py:63: VisibleDeprecationWarning: Creating an ndarray from ragged nested sequences (which is a list-or-tuple of lists-or-tuples-or ndarrays with different lengths or shapes) is deprecated. If you meant to do this, you must specify 'dtype=object' when creating the ndarray.\n",
      "  sentiment_data = np.array(sentiment_data)\n"
     ]
    },
    {
     "name": "stdout",
     "output_type": "stream",
     "text": [
      "======================= filtering sentiment data =======================\n",
      "original review length:  9008\n",
      "original user length:  557\n",
      "original item length:  4397\n",
      "original feature length:  4968\n",
      "valid review length:  8182\n",
      "valid user:  557\n",
      "valid item :  4168\n",
      "valid feature length:  571\n",
      "user dense is: 14.689407540394972\n",
      "======================= filtering sentiment data =======================\n",
      "original review length:  8182\n",
      "original user length:  557\n",
      "original item length:  4168\n",
      "original feature length:  571\n",
      "valid review length:  8182\n",
      "valid user:  557\n",
      "valid item :  4168\n",
      "valid feature length:  571\n",
      "user dense is: 14.689407540394972\n"
     ]
    },
    {
     "name": "stderr",
     "output_type": "stream",
     "text": [
      "/home/amparikh/Counterfactual/utils/functions.py:19: VisibleDeprecationWarning: Creating an ndarray from ragged nested sequences (which is a list-or-tuple of lists-or-tuples-or ndarrays with different lengths or shapes) is deprecated. If you meant to do this, you must specify 'dtype=object' when creating the ndarray.\n",
      "  sentiment_data = np.array(sentiment_data)\n",
      "/home/amparikh/Counterfactual/utils/functions.py:76: VisibleDeprecationWarning: Creating an ndarray from ragged nested sequences (which is a list-or-tuple of lists-or-tuples-or ndarrays with different lengths or shapes) is deprecated. If you meant to do this, you must specify 'dtype=object' when creating the ndarray.\n",
      "  sentiment_data = np.array(sentiment_data)\n"
     ]
    },
    {
     "name": "stdout",
     "output_type": "stream",
     "text": [
      "======================= sample training data =======================\n",
      "# training samples : 14640\n",
      "======================= sample test data =======================\n",
      "# test samples : 557\n"
     ]
    },
    {
     "name": "stderr",
     "output_type": "stream",
     "text": [
      "/tmp/ipykernel_8368/1218841987.py:213: VisibleDeprecationWarning: Creating an ndarray from ragged nested sequences (which is a list-or-tuple of lists-or-tuples-or ndarrays with different lengths or shapes) is deprecated. If you meant to do this, you must specify 'dtype=object' when creating the ndarray.\n",
      "  self.test_data = np.array(user_item_label_list)\n"
     ]
    },
    {
     "name": "stdout",
     "output_type": "stream",
     "text": [
      "init ndcg: 0.08406751516725029\n"
     ]
    },
    {
     "name": "stderr",
     "output_type": "stream",
     "text": [
      "  0%|          | 0/100 [00:00<?, ?it/s]"
     ]
    },
    {
     "name": "stdout",
     "output_type": "stream",
     "text": [
      "epoch 0:  training loss:  0.6564335\n"
     ]
    },
    {
     "name": "stderr",
     "output_type": "stream",
     "text": [
      "  1%|          | 1/100 [00:00<01:14,  1.33it/s]"
     ]
    },
    {
     "name": "stdout",
     "output_type": "stream",
     "text": [
      "epoch 0:  training loss:  0.6564335 NDCG:  0.09612737030001499\n"
     ]
    },
    {
     "name": "stderr",
     "output_type": "stream",
     "text": [
      "  2%|▏         | 2/100 [00:00<00:44,  2.19it/s]"
     ]
    },
    {
     "name": "stdout",
     "output_type": "stream",
     "text": [
      "epoch 1:  training loss:  0.6334426\n"
     ]
    },
    {
     "name": "stderr",
     "output_type": "stream",
     "text": [
      "  3%|▎         | 3/100 [00:01<00:35,  2.75it/s]"
     ]
    },
    {
     "name": "stdout",
     "output_type": "stream",
     "text": [
      "epoch 2:  training loss:  0.6219797\n"
     ]
    },
    {
     "name": "stderr",
     "output_type": "stream",
     "text": [
      "  4%|▍         | 4/100 [00:01<00:30,  3.14it/s]"
     ]
    },
    {
     "name": "stdout",
     "output_type": "stream",
     "text": [
      "epoch 3:  training loss:  0.6094341\n"
     ]
    },
    {
     "name": "stderr",
     "output_type": "stream",
     "text": [
      "  5%|▌         | 5/100 [00:01<00:27,  3.42it/s]"
     ]
    },
    {
     "name": "stdout",
     "output_type": "stream",
     "text": [
      "epoch 4:  training loss:  0.5970631\n"
     ]
    },
    {
     "name": "stderr",
     "output_type": "stream",
     "text": [
      "  6%|▌         | 6/100 [00:01<00:26,  3.61it/s]"
     ]
    },
    {
     "name": "stdout",
     "output_type": "stream",
     "text": [
      "epoch 5:  training loss:  0.58544946\n"
     ]
    },
    {
     "name": "stderr",
     "output_type": "stream",
     "text": [
      "  7%|▋         | 7/100 [00:02<00:25,  3.71it/s]"
     ]
    },
    {
     "name": "stdout",
     "output_type": "stream",
     "text": [
      "epoch 6:  training loss:  0.57699287\n"
     ]
    },
    {
     "name": "stderr",
     "output_type": "stream",
     "text": [
      "  8%|▊         | 8/100 [00:02<00:24,  3.79it/s]"
     ]
    },
    {
     "name": "stdout",
     "output_type": "stream",
     "text": [
      "epoch 7:  training loss:  0.57087547\n"
     ]
    },
    {
     "name": "stderr",
     "output_type": "stream",
     "text": [
      "  9%|▉         | 9/100 [00:02<00:23,  3.85it/s]"
     ]
    },
    {
     "name": "stdout",
     "output_type": "stream",
     "text": [
      "epoch 8:  training loss:  0.5666164\n"
     ]
    },
    {
     "name": "stderr",
     "output_type": "stream",
     "text": [
      " 10%|█         | 10/100 [00:03<00:23,  3.88it/s]"
     ]
    },
    {
     "name": "stdout",
     "output_type": "stream",
     "text": [
      "epoch 9:  training loss:  0.56312186\n",
      "epoch 10:  training loss:  0.5597324\n"
     ]
    },
    {
     "name": "stderr",
     "output_type": "stream",
     "text": [
      " 11%|█         | 11/100 [00:03<00:35,  2.52it/s]"
     ]
    },
    {
     "name": "stdout",
     "output_type": "stream",
     "text": [
      "epoch 10:  training loss:  0.5597324 NDCG:  0.14899199785576825\n"
     ]
    },
    {
     "name": "stderr",
     "output_type": "stream",
     "text": [
      " 12%|█▏        | 12/100 [00:03<00:31,  2.82it/s]"
     ]
    },
    {
     "name": "stdout",
     "output_type": "stream",
     "text": [
      "epoch 11:  training loss:  0.5572147\n"
     ]
    },
    {
     "name": "stderr",
     "output_type": "stream",
     "text": [
      " 13%|█▎        | 13/100 [00:04<00:28,  3.09it/s]"
     ]
    },
    {
     "name": "stdout",
     "output_type": "stream",
     "text": [
      "epoch 12:  training loss:  0.55489385\n"
     ]
    },
    {
     "name": "stderr",
     "output_type": "stream",
     "text": [
      " 14%|█▍        | 14/100 [00:04<00:25,  3.32it/s]"
     ]
    },
    {
     "name": "stdout",
     "output_type": "stream",
     "text": [
      "epoch 13:  training loss:  0.55238736\n"
     ]
    },
    {
     "name": "stderr",
     "output_type": "stream",
     "text": [
      " 15%|█▌        | 15/100 [00:04<00:24,  3.49it/s]"
     ]
    },
    {
     "name": "stdout",
     "output_type": "stream",
     "text": [
      "epoch 14:  training loss:  0.5494607\n"
     ]
    },
    {
     "name": "stderr",
     "output_type": "stream",
     "text": [
      " 16%|█▌        | 16/100 [00:04<00:23,  3.61it/s]"
     ]
    },
    {
     "name": "stdout",
     "output_type": "stream",
     "text": [
      "epoch 15:  training loss:  0.54764843\n"
     ]
    },
    {
     "name": "stderr",
     "output_type": "stream",
     "text": [
      " 17%|█▋        | 17/100 [00:05<00:22,  3.70it/s]"
     ]
    },
    {
     "name": "stdout",
     "output_type": "stream",
     "text": [
      "epoch 16:  training loss:  0.54504645\n"
     ]
    },
    {
     "name": "stderr",
     "output_type": "stream",
     "text": [
      " 18%|█▊        | 18/100 [00:05<00:21,  3.79it/s]"
     ]
    },
    {
     "name": "stdout",
     "output_type": "stream",
     "text": [
      "epoch 17:  training loss:  0.54297554\n"
     ]
    },
    {
     "name": "stderr",
     "output_type": "stream",
     "text": [
      " 19%|█▉        | 19/100 [00:05<00:21,  3.85it/s]"
     ]
    },
    {
     "name": "stdout",
     "output_type": "stream",
     "text": [
      "epoch 18:  training loss:  0.54090154\n"
     ]
    },
    {
     "name": "stderr",
     "output_type": "stream",
     "text": [
      " 20%|██        | 20/100 [00:05<00:20,  3.91it/s]"
     ]
    },
    {
     "name": "stdout",
     "output_type": "stream",
     "text": [
      "epoch 19:  training loss:  0.5393896\n",
      "epoch 20:  training loss:  0.5370647\n"
     ]
    },
    {
     "name": "stderr",
     "output_type": "stream",
     "text": [
      " 21%|██        | 21/100 [00:06<00:31,  2.54it/s]"
     ]
    },
    {
     "name": "stdout",
     "output_type": "stream",
     "text": [
      "epoch 20:  training loss:  0.5370647 NDCG:  0.15688480689603082\n"
     ]
    },
    {
     "name": "stderr",
     "output_type": "stream",
     "text": [
      " 22%|██▏       | 22/100 [00:06<00:27,  2.85it/s]"
     ]
    },
    {
     "name": "stdout",
     "output_type": "stream",
     "text": [
      "epoch 21:  training loss:  0.535235\n"
     ]
    },
    {
     "name": "stderr",
     "output_type": "stream",
     "text": [
      " 23%|██▎       | 23/100 [00:07<00:24,  3.11it/s]"
     ]
    },
    {
     "name": "stdout",
     "output_type": "stream",
     "text": [
      "epoch 22:  training loss:  0.5328399\n"
     ]
    },
    {
     "name": "stderr",
     "output_type": "stream",
     "text": [
      " 24%|██▍       | 24/100 [00:07<00:22,  3.34it/s]"
     ]
    },
    {
     "name": "stdout",
     "output_type": "stream",
     "text": [
      "epoch 23:  training loss:  0.53080523\n"
     ]
    },
    {
     "name": "stderr",
     "output_type": "stream",
     "text": [
      " 25%|██▌       | 25/100 [00:07<00:21,  3.50it/s]"
     ]
    },
    {
     "name": "stdout",
     "output_type": "stream",
     "text": [
      "epoch 24:  training loss:  0.5291876\n"
     ]
    },
    {
     "name": "stderr",
     "output_type": "stream",
     "text": [
      " 26%|██▌       | 26/100 [00:07<00:20,  3.60it/s]"
     ]
    },
    {
     "name": "stdout",
     "output_type": "stream",
     "text": [
      "epoch 25:  training loss:  0.5257562\n"
     ]
    },
    {
     "name": "stderr",
     "output_type": "stream",
     "text": [
      " 27%|██▋       | 27/100 [00:08<00:19,  3.71it/s]"
     ]
    },
    {
     "name": "stdout",
     "output_type": "stream",
     "text": [
      "epoch 26:  training loss:  0.5234737\n"
     ]
    },
    {
     "name": "stderr",
     "output_type": "stream",
     "text": [
      " 28%|██▊       | 28/100 [00:08<00:19,  3.78it/s]"
     ]
    },
    {
     "name": "stdout",
     "output_type": "stream",
     "text": [
      "epoch 27:  training loss:  0.52114964\n"
     ]
    },
    {
     "name": "stderr",
     "output_type": "stream",
     "text": [
      " 29%|██▉       | 29/100 [00:08<00:18,  3.82it/s]"
     ]
    },
    {
     "name": "stdout",
     "output_type": "stream",
     "text": [
      "epoch 28:  training loss:  0.5184861\n"
     ]
    },
    {
     "name": "stderr",
     "output_type": "stream",
     "text": [
      " 30%|███       | 30/100 [00:08<00:18,  3.82it/s]"
     ]
    },
    {
     "name": "stdout",
     "output_type": "stream",
     "text": [
      "epoch 29:  training loss:  0.5164229\n",
      "epoch 30:  training loss:  0.5127874\n"
     ]
    },
    {
     "name": "stderr",
     "output_type": "stream",
     "text": [
      " 31%|███       | 31/100 [00:09<00:27,  2.51it/s]"
     ]
    },
    {
     "name": "stdout",
     "output_type": "stream",
     "text": [
      "epoch 30:  training loss:  0.5127874 NDCG:  0.16589628770843273\n"
     ]
    },
    {
     "name": "stderr",
     "output_type": "stream",
     "text": [
      " 32%|███▏      | 32/100 [00:09<00:24,  2.81it/s]"
     ]
    },
    {
     "name": "stdout",
     "output_type": "stream",
     "text": [
      "epoch 31:  training loss:  0.5105492\n"
     ]
    },
    {
     "name": "stderr",
     "output_type": "stream",
     "text": [
      " 33%|███▎      | 33/100 [00:10<00:21,  3.08it/s]"
     ]
    },
    {
     "name": "stdout",
     "output_type": "stream",
     "text": [
      "epoch 32:  training loss:  0.5073222\n"
     ]
    },
    {
     "name": "stderr",
     "output_type": "stream",
     "text": [
      " 34%|███▍      | 34/100 [00:10<00:19,  3.31it/s]"
     ]
    },
    {
     "name": "stdout",
     "output_type": "stream",
     "text": [
      "epoch 33:  training loss:  0.5048504\n"
     ]
    },
    {
     "name": "stderr",
     "output_type": "stream",
     "text": [
      " 35%|███▌      | 35/100 [00:10<00:18,  3.50it/s]"
     ]
    },
    {
     "name": "stdout",
     "output_type": "stream",
     "text": [
      "epoch 34:  training loss:  0.5008463\n"
     ]
    },
    {
     "name": "stderr",
     "output_type": "stream",
     "text": [
      " 36%|███▌      | 36/100 [00:10<00:17,  3.63it/s]"
     ]
    },
    {
     "name": "stdout",
     "output_type": "stream",
     "text": [
      "epoch 35:  training loss:  0.497569\n"
     ]
    },
    {
     "name": "stderr",
     "output_type": "stream",
     "text": [
      " 37%|███▋      | 37/100 [00:11<00:16,  3.75it/s]"
     ]
    },
    {
     "name": "stdout",
     "output_type": "stream",
     "text": [
      "epoch 36:  training loss:  0.49401158\n"
     ]
    },
    {
     "name": "stderr",
     "output_type": "stream",
     "text": [
      " 38%|███▊      | 38/100 [00:11<00:16,  3.82it/s]"
     ]
    },
    {
     "name": "stdout",
     "output_type": "stream",
     "text": [
      "epoch 37:  training loss:  0.49020603\n"
     ]
    },
    {
     "name": "stderr",
     "output_type": "stream",
     "text": [
      " 39%|███▉      | 39/100 [00:11<00:15,  3.88it/s]"
     ]
    },
    {
     "name": "stdout",
     "output_type": "stream",
     "text": [
      "epoch 38:  training loss:  0.48624507\n"
     ]
    },
    {
     "name": "stderr",
     "output_type": "stream",
     "text": [
      " 40%|████      | 40/100 [00:11<00:15,  3.88it/s]"
     ]
    },
    {
     "name": "stdout",
     "output_type": "stream",
     "text": [
      "epoch 39:  training loss:  0.48210236\n",
      "epoch 40:  training loss:  0.47725594\n"
     ]
    },
    {
     "name": "stderr",
     "output_type": "stream",
     "text": [
      " 41%|████      | 41/100 [00:12<00:23,  2.51it/s]"
     ]
    },
    {
     "name": "stdout",
     "output_type": "stream",
     "text": [
      "epoch 40:  training loss:  0.47725594 NDCG:  0.17293209137620386\n"
     ]
    },
    {
     "name": "stderr",
     "output_type": "stream",
     "text": [
      " 42%|████▏     | 42/100 [00:12<00:20,  2.83it/s]"
     ]
    },
    {
     "name": "stdout",
     "output_type": "stream",
     "text": [
      "epoch 41:  training loss:  0.4726272\n"
     ]
    },
    {
     "name": "stderr",
     "output_type": "stream",
     "text": [
      " 43%|████▎     | 43/100 [00:13<00:18,  3.11it/s]"
     ]
    },
    {
     "name": "stdout",
     "output_type": "stream",
     "text": [
      "epoch 42:  training loss:  0.46765012\n"
     ]
    },
    {
     "name": "stderr",
     "output_type": "stream",
     "text": [
      " 44%|████▍     | 44/100 [00:13<00:16,  3.32it/s]"
     ]
    },
    {
     "name": "stdout",
     "output_type": "stream",
     "text": [
      "epoch 43:  training loss:  0.46275148\n"
     ]
    },
    {
     "name": "stderr",
     "output_type": "stream",
     "text": [
      " 45%|████▌     | 45/100 [00:13<00:15,  3.47it/s]"
     ]
    },
    {
     "name": "stdout",
     "output_type": "stream",
     "text": [
      "epoch 44:  training loss:  0.45706022\n"
     ]
    },
    {
     "name": "stderr",
     "output_type": "stream",
     "text": [
      " 46%|████▌     | 46/100 [00:13<00:15,  3.58it/s]"
     ]
    },
    {
     "name": "stdout",
     "output_type": "stream",
     "text": [
      "epoch 45:  training loss:  0.45256928\n"
     ]
    },
    {
     "name": "stderr",
     "output_type": "stream",
     "text": [
      " 47%|████▋     | 47/100 [00:14<00:14,  3.61it/s]"
     ]
    },
    {
     "name": "stdout",
     "output_type": "stream",
     "text": [
      "epoch 46:  training loss:  0.4458388\n"
     ]
    },
    {
     "name": "stderr",
     "output_type": "stream",
     "text": [
      " 48%|████▊     | 48/100 [00:14<00:14,  3.70it/s]"
     ]
    },
    {
     "name": "stdout",
     "output_type": "stream",
     "text": [
      "epoch 47:  training loss:  0.4395451\n"
     ]
    },
    {
     "name": "stderr",
     "output_type": "stream",
     "text": [
      " 49%|████▉     | 49/100 [00:14<00:13,  3.78it/s]"
     ]
    },
    {
     "name": "stdout",
     "output_type": "stream",
     "text": [
      "epoch 48:  training loss:  0.432644\n"
     ]
    },
    {
     "name": "stderr",
     "output_type": "stream",
     "text": [
      " 50%|█████     | 50/100 [00:14<00:13,  3.84it/s]"
     ]
    },
    {
     "name": "stdout",
     "output_type": "stream",
     "text": [
      "epoch 49:  training loss:  0.42590073\n",
      "epoch 50:  training loss:  0.41973954\n"
     ]
    },
    {
     "name": "stderr",
     "output_type": "stream",
     "text": [
      " 51%|█████     | 51/100 [00:15<00:19,  2.53it/s]"
     ]
    },
    {
     "name": "stdout",
     "output_type": "stream",
     "text": [
      "epoch 50:  training loss:  0.41973954 NDCG:  0.17298764524236052\n"
     ]
    },
    {
     "name": "stderr",
     "output_type": "stream",
     "text": [
      " 52%|█████▏    | 52/100 [00:15<00:17,  2.82it/s]"
     ]
    },
    {
     "name": "stdout",
     "output_type": "stream",
     "text": [
      "epoch 51:  training loss:  0.41289532\n"
     ]
    },
    {
     "name": "stderr",
     "output_type": "stream",
     "text": [
      " 53%|█████▎    | 53/100 [00:16<00:15,  3.10it/s]"
     ]
    },
    {
     "name": "stdout",
     "output_type": "stream",
     "text": [
      "epoch 52:  training loss:  0.4047997\n"
     ]
    },
    {
     "name": "stderr",
     "output_type": "stream",
     "text": [
      " 54%|█████▍    | 54/100 [00:16<00:13,  3.34it/s]"
     ]
    },
    {
     "name": "stdout",
     "output_type": "stream",
     "text": [
      "epoch 53:  training loss:  0.39743808\n"
     ]
    },
    {
     "name": "stderr",
     "output_type": "stream",
     "text": [
      " 55%|█████▌    | 55/100 [00:16<00:12,  3.51it/s]"
     ]
    },
    {
     "name": "stdout",
     "output_type": "stream",
     "text": [
      "epoch 54:  training loss:  0.38968474\n"
     ]
    },
    {
     "name": "stderr",
     "output_type": "stream",
     "text": [
      " 56%|█████▌    | 56/100 [00:16<00:12,  3.61it/s]"
     ]
    },
    {
     "name": "stdout",
     "output_type": "stream",
     "text": [
      "epoch 55:  training loss:  0.38212827\n"
     ]
    },
    {
     "name": "stderr",
     "output_type": "stream",
     "text": [
      " 57%|█████▋    | 57/100 [00:17<00:11,  3.68it/s]"
     ]
    },
    {
     "name": "stdout",
     "output_type": "stream",
     "text": [
      "epoch 56:  training loss:  0.37360975\n"
     ]
    },
    {
     "name": "stderr",
     "output_type": "stream",
     "text": [
      " 58%|█████▊    | 58/100 [00:17<00:11,  3.73it/s]"
     ]
    },
    {
     "name": "stdout",
     "output_type": "stream",
     "text": [
      "epoch 57:  training loss:  0.3661411\n"
     ]
    },
    {
     "name": "stderr",
     "output_type": "stream",
     "text": [
      " 59%|█████▉    | 59/100 [00:17<00:10,  3.76it/s]"
     ]
    },
    {
     "name": "stdout",
     "output_type": "stream",
     "text": [
      "epoch 58:  training loss:  0.3622152\n"
     ]
    },
    {
     "name": "stderr",
     "output_type": "stream",
     "text": [
      " 60%|██████    | 60/100 [00:17<00:10,  3.81it/s]"
     ]
    },
    {
     "name": "stdout",
     "output_type": "stream",
     "text": [
      "epoch 59:  training loss:  0.35431308\n",
      "epoch 60:  training loss:  0.3427067\n"
     ]
    },
    {
     "name": "stderr",
     "output_type": "stream",
     "text": [
      " 61%|██████    | 61/100 [00:18<00:15,  2.51it/s]"
     ]
    },
    {
     "name": "stdout",
     "output_type": "stream",
     "text": [
      "epoch 60:  training loss:  0.3427067 NDCG:  0.17116904831661314\n"
     ]
    },
    {
     "name": "stderr",
     "output_type": "stream",
     "text": [
      " 62%|██████▏   | 62/100 [00:18<00:13,  2.81it/s]"
     ]
    },
    {
     "name": "stdout",
     "output_type": "stream",
     "text": [
      "epoch 61:  training loss:  0.33969602\n"
     ]
    },
    {
     "name": "stderr",
     "output_type": "stream",
     "text": [
      " 63%|██████▎   | 63/100 [00:19<00:12,  3.08it/s]"
     ]
    },
    {
     "name": "stdout",
     "output_type": "stream",
     "text": [
      "epoch 62:  training loss:  0.32536802\n"
     ]
    },
    {
     "name": "stderr",
     "output_type": "stream",
     "text": [
      " 64%|██████▍   | 64/100 [00:19<00:10,  3.32it/s]"
     ]
    },
    {
     "name": "stdout",
     "output_type": "stream",
     "text": [
      "epoch 63:  training loss:  0.32487673\n"
     ]
    },
    {
     "name": "stderr",
     "output_type": "stream",
     "text": [
      " 65%|██████▌   | 65/100 [00:19<00:10,  3.47it/s]"
     ]
    },
    {
     "name": "stdout",
     "output_type": "stream",
     "text": [
      "epoch 64:  training loss:  0.30969882\n"
     ]
    },
    {
     "name": "stderr",
     "output_type": "stream",
     "text": [
      " 66%|██████▌   | 66/100 [00:19<00:09,  3.60it/s]"
     ]
    },
    {
     "name": "stdout",
     "output_type": "stream",
     "text": [
      "epoch 65:  training loss:  0.31979436\n"
     ]
    },
    {
     "name": "stderr",
     "output_type": "stream",
     "text": [
      " 67%|██████▋   | 67/100 [00:20<00:08,  3.72it/s]"
     ]
    },
    {
     "name": "stdout",
     "output_type": "stream",
     "text": [
      "epoch 66:  training loss:  0.30893183\n"
     ]
    },
    {
     "name": "stderr",
     "output_type": "stream",
     "text": [
      " 68%|██████▊   | 68/100 [00:20<00:08,  3.80it/s]"
     ]
    },
    {
     "name": "stdout",
     "output_type": "stream",
     "text": [
      "epoch 67:  training loss:  0.30761397\n"
     ]
    },
    {
     "name": "stderr",
     "output_type": "stream",
     "text": [
      " 69%|██████▉   | 69/100 [00:20<00:08,  3.84it/s]"
     ]
    },
    {
     "name": "stdout",
     "output_type": "stream",
     "text": [
      "epoch 68:  training loss:  0.29269075\n"
     ]
    },
    {
     "name": "stderr",
     "output_type": "stream",
     "text": [
      " 70%|███████   | 70/100 [00:20<00:07,  3.90it/s]"
     ]
    },
    {
     "name": "stdout",
     "output_type": "stream",
     "text": [
      "epoch 69:  training loss:  0.2798849\n",
      "epoch 70:  training loss:  0.2920866\n"
     ]
    },
    {
     "name": "stderr",
     "output_type": "stream",
     "text": [
      " 71%|███████   | 71/100 [00:21<00:11,  2.55it/s]"
     ]
    },
    {
     "name": "stdout",
     "output_type": "stream",
     "text": [
      "epoch 70:  training loss:  0.2920866 NDCG:  0.1756792680363379\n"
     ]
    },
    {
     "name": "stderr",
     "output_type": "stream",
     "text": [
      " 72%|███████▏  | 72/100 [00:21<00:09,  2.85it/s]"
     ]
    },
    {
     "name": "stdout",
     "output_type": "stream",
     "text": [
      "epoch 71:  training loss:  0.28593126\n"
     ]
    },
    {
     "name": "stderr",
     "output_type": "stream",
     "text": [
      " 73%|███████▎  | 73/100 [00:22<00:08,  3.12it/s]"
     ]
    },
    {
     "name": "stdout",
     "output_type": "stream",
     "text": [
      "epoch 72:  training loss:  0.28071773\n"
     ]
    },
    {
     "name": "stderr",
     "output_type": "stream",
     "text": [
      " 74%|███████▍  | 74/100 [00:22<00:07,  3.34it/s]"
     ]
    },
    {
     "name": "stdout",
     "output_type": "stream",
     "text": [
      "epoch 73:  training loss:  0.27231118\n"
     ]
    },
    {
     "name": "stderr",
     "output_type": "stream",
     "text": [
      " 75%|███████▌  | 75/100 [00:22<00:07,  3.51it/s]"
     ]
    },
    {
     "name": "stdout",
     "output_type": "stream",
     "text": [
      "epoch 74:  training loss:  0.27796403\n"
     ]
    },
    {
     "name": "stderr",
     "output_type": "stream",
     "text": [
      " 76%|███████▌  | 76/100 [00:22<00:06,  3.64it/s]"
     ]
    },
    {
     "name": "stdout",
     "output_type": "stream",
     "text": [
      "epoch 75:  training loss:  0.26402715\n"
     ]
    },
    {
     "name": "stderr",
     "output_type": "stream",
     "text": [
      " 77%|███████▋  | 77/100 [00:23<00:06,  3.72it/s]"
     ]
    },
    {
     "name": "stdout",
     "output_type": "stream",
     "text": [
      "epoch 76:  training loss:  0.2814969\n"
     ]
    },
    {
     "name": "stderr",
     "output_type": "stream",
     "text": [
      " 78%|███████▊  | 78/100 [00:23<00:05,  3.79it/s]"
     ]
    },
    {
     "name": "stdout",
     "output_type": "stream",
     "text": [
      "epoch 77:  training loss:  0.2513022\n"
     ]
    },
    {
     "name": "stderr",
     "output_type": "stream",
     "text": [
      " 79%|███████▉  | 79/100 [00:23<00:05,  3.83it/s]"
     ]
    },
    {
     "name": "stdout",
     "output_type": "stream",
     "text": [
      "epoch 78:  training loss:  0.24370135\n"
     ]
    },
    {
     "name": "stderr",
     "output_type": "stream",
     "text": [
      " 80%|████████  | 80/100 [00:23<00:05,  3.85it/s]"
     ]
    },
    {
     "name": "stdout",
     "output_type": "stream",
     "text": [
      "epoch 79:  training loss:  0.22933681\n",
      "epoch 80:  training loss:  0.25038856\n"
     ]
    },
    {
     "name": "stderr",
     "output_type": "stream",
     "text": [
      " 81%|████████  | 81/100 [00:24<00:07,  2.54it/s]"
     ]
    },
    {
     "name": "stdout",
     "output_type": "stream",
     "text": [
      "epoch 80:  training loss:  0.25038856 NDCG:  0.1708911268458291\n"
     ]
    },
    {
     "name": "stderr",
     "output_type": "stream",
     "text": [
      " 82%|████████▏ | 82/100 [00:24<00:06,  2.83it/s]"
     ]
    },
    {
     "name": "stdout",
     "output_type": "stream",
     "text": [
      "epoch 81:  training loss:  0.21063334\n"
     ]
    },
    {
     "name": "stderr",
     "output_type": "stream",
     "text": [
      " 83%|████████▎ | 83/100 [00:25<00:05,  3.09it/s]"
     ]
    },
    {
     "name": "stdout",
     "output_type": "stream",
     "text": [
      "epoch 82:  training loss:  0.2531474\n"
     ]
    },
    {
     "name": "stderr",
     "output_type": "stream",
     "text": [
      " 84%|████████▍ | 84/100 [00:25<00:04,  3.29it/s]"
     ]
    },
    {
     "name": "stdout",
     "output_type": "stream",
     "text": [
      "epoch 83:  training loss:  0.22004925\n"
     ]
    },
    {
     "name": "stderr",
     "output_type": "stream",
     "text": [
      " 85%|████████▌ | 85/100 [00:25<00:04,  3.47it/s]"
     ]
    },
    {
     "name": "stdout",
     "output_type": "stream",
     "text": [
      "epoch 84:  training loss:  0.23994446\n"
     ]
    },
    {
     "name": "stderr",
     "output_type": "stream",
     "text": [
      " 86%|████████▌ | 86/100 [00:25<00:03,  3.58it/s]"
     ]
    },
    {
     "name": "stdout",
     "output_type": "stream",
     "text": [
      "epoch 85:  training loss:  0.20753646\n"
     ]
    },
    {
     "name": "stderr",
     "output_type": "stream",
     "text": [
      " 87%|████████▋ | 87/100 [00:26<00:03,  3.68it/s]"
     ]
    },
    {
     "name": "stdout",
     "output_type": "stream",
     "text": [
      "epoch 86:  training loss:  0.21344234\n"
     ]
    },
    {
     "name": "stderr",
     "output_type": "stream",
     "text": [
      " 88%|████████▊ | 88/100 [00:26<00:03,  3.76it/s]"
     ]
    },
    {
     "name": "stdout",
     "output_type": "stream",
     "text": [
      "epoch 87:  training loss:  0.19522202\n"
     ]
    },
    {
     "name": "stderr",
     "output_type": "stream",
     "text": [
      " 89%|████████▉ | 89/100 [00:26<00:02,  3.80it/s]"
     ]
    },
    {
     "name": "stdout",
     "output_type": "stream",
     "text": [
      "epoch 88:  training loss:  0.20578603\n"
     ]
    },
    {
     "name": "stderr",
     "output_type": "stream",
     "text": [
      " 90%|█████████ | 90/100 [00:26<00:02,  3.85it/s]"
     ]
    },
    {
     "name": "stdout",
     "output_type": "stream",
     "text": [
      "epoch 89:  training loss:  0.20623283\n",
      "epoch 90:  training loss:  0.19240081\n"
     ]
    },
    {
     "name": "stderr",
     "output_type": "stream",
     "text": [
      " 91%|█████████ | 91/100 [00:27<00:03,  2.53it/s]"
     ]
    },
    {
     "name": "stdout",
     "output_type": "stream",
     "text": [
      "epoch 90:  training loss:  0.19240081 NDCG:  0.17618664230277412\n"
     ]
    },
    {
     "name": "stderr",
     "output_type": "stream",
     "text": [
      " 92%|█████████▏| 92/100 [00:27<00:02,  2.84it/s]"
     ]
    },
    {
     "name": "stdout",
     "output_type": "stream",
     "text": [
      "epoch 91:  training loss:  0.18042716\n"
     ]
    },
    {
     "name": "stderr",
     "output_type": "stream",
     "text": [
      " 93%|█████████▎| 93/100 [00:28<00:02,  3.09it/s]"
     ]
    },
    {
     "name": "stdout",
     "output_type": "stream",
     "text": [
      "epoch 92:  training loss:  0.1803027\n"
     ]
    },
    {
     "name": "stderr",
     "output_type": "stream",
     "text": [
      " 94%|█████████▍| 94/100 [00:28<00:01,  3.34it/s]"
     ]
    },
    {
     "name": "stdout",
     "output_type": "stream",
     "text": [
      "epoch 93:  training loss:  0.1514129\n"
     ]
    },
    {
     "name": "stderr",
     "output_type": "stream",
     "text": [
      " 95%|█████████▌| 95/100 [00:28<00:01,  3.49it/s]"
     ]
    },
    {
     "name": "stdout",
     "output_type": "stream",
     "text": [
      "epoch 94:  training loss:  0.16018733\n"
     ]
    },
    {
     "name": "stderr",
     "output_type": "stream",
     "text": [
      " 96%|█████████▌| 96/100 [00:28<00:01,  3.59it/s]"
     ]
    },
    {
     "name": "stdout",
     "output_type": "stream",
     "text": [
      "epoch 95:  training loss:  0.16734654\n"
     ]
    },
    {
     "name": "stderr",
     "output_type": "stream",
     "text": [
      " 97%|█████████▋| 97/100 [00:29<00:00,  3.71it/s]"
     ]
    },
    {
     "name": "stdout",
     "output_type": "stream",
     "text": [
      "epoch 96:  training loss:  0.15995397\n"
     ]
    },
    {
     "name": "stderr",
     "output_type": "stream",
     "text": [
      " 98%|█████████▊| 98/100 [00:29<00:00,  3.79it/s]"
     ]
    },
    {
     "name": "stdout",
     "output_type": "stream",
     "text": [
      "epoch 97:  training loss:  0.15791762\n"
     ]
    },
    {
     "name": "stderr",
     "output_type": "stream",
     "text": [
      " 99%|█████████▉| 99/100 [00:29<00:00,  3.86it/s]"
     ]
    },
    {
     "name": "stdout",
     "output_type": "stream",
     "text": [
      "epoch 98:  training loss:  0.15050326\n"
     ]
    },
    {
     "name": "stderr",
     "output_type": "stream",
     "text": [
      "100%|██████████| 100/100 [00:29<00:00,  3.34it/s]"
     ]
    },
    {
     "name": "stdout",
     "output_type": "stream",
     "text": [
      "epoch 99:  training loss:  0.1709407\n"
     ]
    },
    {
     "name": "stderr",
     "output_type": "stream",
     "text": [
      "\n"
     ]
    },
    {
     "data": {
      "text/plain": [
       "0"
      ]
     },
     "execution_count": 14,
     "metadata": {},
     "output_type": "execute_result"
    }
   ],
   "source": [
    "#   # training arguments\n",
    "if t_args.gpu:\n",
    "    os.environ[\"CUDA_VISIBLE_DEVICES\"] = t_args.cuda\n",
    "    print(\"Using CUDA\", t_args.cuda)\n",
    "else:\n",
    "    print(\"Using CPU\")\n",
    "train_base_recommendation(t_args, ap)"
   ]
  },
  {
   "cell_type": "code",
   "execution_count": null,
   "id": "638b5de0",
   "metadata": {},
   "outputs": [
    {
     "name": "stderr",
     "output_type": "stream",
     "text": [
      " 10%|▉         | 53/557 [05:02<48:12,  5.74s/it]"
     ]
    }
   ],
   "source": [
    "\n",
    "\n",
    "\n",
    "def generate_explanation(exp_args):\n",
    "    if exp_args.gpu:\n",
    "        device = torch.device('cuda:%s' % exp_args.cuda)\n",
    "    else:\n",
    "        device = 'cpu'\n",
    "    # import dataset\n",
    "    with open(os.path.join(exp_args.data_obj_path, exp_args.dataset + \"_dataset_obj.pickle\"), 'rb') as inp:\n",
    "        rec_dataset = pickle.load(inp)\n",
    "    base_model = BaseRecModel(rec_dataset.feature_num).to(device)\n",
    "    base_model.load_state_dict(torch.load(os.path.join(exp_args.base_model_path, exp_args.dataset+\"_logs\", \"model.model\")))\n",
    "    base_model.eval()\n",
    "    #  fix the rec model\n",
    "    for param in base_model.parameters():\n",
    "        param.requires_grad = False\n",
    "    \n",
    "    # Create optimization model\n",
    "    opt_model = ExpOptimizationModel(\n",
    "        base_model=base_model,\n",
    "        rec_dataset=rec_dataset,\n",
    "        device = device,\n",
    "        exp_args=exp_args,\n",
    "    )\n",
    "    \n",
    "\n",
    "    opt_model.generate_explanation()\n",
    "    opt_model.user_side_evaluation()\n",
    "    opt_model.model_side_evaluation()\n",
    "    Path(exp_args.save_path).mkdir(parents=True, exist_ok=True)\n",
    "    with open(os.path.join(exp_args.save_path, exp_args.dataset + \"_explanation_obj.pickle\"), 'wb') as outp:\n",
    "        pickle.dump(opt_model, outp, pickle.HIGHEST_PROTOCOL)\n",
    "    return True\n",
    "\n",
    "\n",
    "if __name__ == \"__main__\":\n",
    "    exp_args = arg_parse_exp_optimize()\n",
    "    generate_explanation(exp_args)"
   ]
  }
 ],
 "metadata": {
  "kernelspec": {
   "display_name": "Python 3 (clean)",
   "language": "python",
   "name": "python3_clean"
  },
  "language_info": {
   "codemirror_mode": {
    "name": "ipython",
    "version": 3
   },
   "file_extension": ".py",
   "mimetype": "text/x-python",
   "name": "python",
   "nbconvert_exporter": "python",
   "pygments_lexer": "ipython3",
   "version": "3.9.5"
  }
 },
 "nbformat": 4,
 "nbformat_minor": 5
}
